{
 "cells": [
  {
   "cell_type": "code",
   "execution_count": 1,
   "id": "4636220f-7d91-467d-bdf6-38ce66f5497c",
   "metadata": {},
   "outputs": [],
   "source": [
    "from langchain_groq import ChatGroq"
   ]
  },
  {
   "cell_type": "code",
   "execution_count": 2,
   "id": "837786b0-de3b-4fc1-b4d6-43dd2cce9dd1",
   "metadata": {},
   "outputs": [
    {
     "name": "stdout",
     "output_type": "stream",
     "text": [
      "I'm an artificial intelligence model known as Llama. Llama stands for \"Large Language Model Meta AI.\"\n"
     ]
    }
   ],
   "source": [
    "import os\n",
    "from dotenv import load_dotenv\n",
    "\n",
    "load_dotenv()\n",
    "llm = ChatGroq(\n",
    "    temperature=0,\n",
    "    groq_api_key = os.getenv('GROQ_API_KEY'),\n",
    "    model_name=\"llama-3.1-70b-versatile\"  \n",
    ")\n",
    "response = llm.invoke(\"who are you?\")\n",
    "print(response.content)"
   ]
  },
  {
   "cell_type": "code",
   "execution_count": 3,
   "id": "193263c1-9137-467e-9e0f-2432b7923ceb",
   "metadata": {},
   "outputs": [
    {
     "name": "stderr",
     "output_type": "stream",
     "text": [
      "USER_AGENT environment variable not set, consider setting it to identify your requests.\n"
     ]
    },
    {
     "name": "stdout",
     "output_type": "stream",
     "text": [
      "Back-end Developer Job Description - Talentport\n",
      "\n",
      "\n",
      "\n",
      "\n",
      "\n",
      "\n",
      "\n",
      "\n",
      "\n",
      "\n",
      "Our TalentsSoftware EngineersTech LeadBack End DevelopersFront End DevelopersDevops EngineersSDET EngineersAI EngineersSalesSDRsCustomer SuccessDigital MarketersSEO ExpertsSocial Media MarketersPerformance MarketersContent WritersFractional CMOCreative TalentsGraphic DesignersVideo EditorsBlogApply as a TalentBack-end Developer Job DescriptionA customizable job description template for hiring world-class back-end developers. Use this as the starting point for your next hire.Hire a TalentCATEGORIESDigital MarketingSoftware EngineeringWeb DevelopmentCreativeAdministrativeHire a Top Talent NowA back-end developer is a type of software developer who focuses on creating and maintaining the server side of web applications. They work on the behind-the-scenes functionality of websites or web applications, handling tasks such as database management, server configuration, and building the logic that enables the front end of the application to function properly.Back-end developers primarily work with programming languages such as Python, Java, Ruby, PHP, and frameworks like Node.js and Django. They interact with databases, APIs, and other external systems to ensure data is retrieved, stored, and manipulated correctly. They are responsible for implementing business logic, security measures, and performance optimization to enhance the overall functionality and efficiency of the web application.Job BriefWe are seeking a Back-End Web Developer who will be responsible for handling the exchange of data between the server and users. Your main focus will involve developing server-side logic, managing the central database, and ensuring excellent performance and responsiveness to front-end requests. Additionally, you will collaborate with your colleagues to integrate their front-end components into the application. A fundamental understanding of front-end technologies is essential for this role.ResponsibilitiesCollaborating with front-end developers to integrate user-facing elements into the server-side logicCreating reusable code and libraries for future useOptimizing the application for speed and scalabilityImplementing security measures and data protectionDesigning and implementing data storage solutionsAdditional relevant responsibilities may applyRequirements and Skills:Basic understanding of front-end technologies and platforms, including JavaScript, HTML5, and CSS3Familiarity with server-side CSS preprocessors like LESS and SASSKnowledge of accessibility and security compliance (depending on the project)Experience with user authentication and authorization across multiple systemsIntegration of multiple data sources and databasesManagement of hosting environment, including database administration and scalabilityData migration, transformation, and scriptingSetting up and administering backupsGenerating data in various formatsAdapting output for different delivery platforms (e.g., mobile vs. desktop)Creating database schemas that support business processesImplementing automated testing platforms and unit testsProficiency in at least one back-end programming language (e.g., PHP, Python, Ruby, Java, .NET, JavaScript)Familiarity with code versioning tools like GitUnderstanding of OWASP security principlesKnowledge of session management in a distributed server environmentFAQ about Back End DeveloperWhat are the specific skills required for Back End Developer?Proficiency in server-side programming languages such as Python, Java, PHP, or Ruby.Experience with back-end frameworks like Django, Flask, Spring, or Laravel.Knowledge of databases and SQL (Structured Query Language).Understanding of RESTful APIs and web services.Familiarity with version control systems like Git.Understanding of server-side CSS preprocessors (e.g., SASS or LESS).Experience with cloud platforms like AWS (Amazon Web Services) or Azure.Knowledge of caching mechanisms and performance optimization techniques.Understanding of security principles and best practices for web applications.Familiarity with Linux/Unix environments and command-line tools.Experience with testing frameworks and writing unit tests.Proficiency in working with data formats such as JSON and XML.Knowledge of web application architecture and server deployment.Problem-solving and debugging skills.Strong understanding of software development principles and practices.How to assess a candidate for Back End Developer?Review their resume and application: Look for relevant experience, technical skills, and educational background. Pay attention to their past projects, programming languages, frameworks, and databases they have worked with.Technical interview: Conduct a technical interview to assess their knowledge and problem-solving abilities. Ask questions related to back-end development concepts, database management, server-side programming, and API integration. Pose coding challenges or problems to gauge their coding skills and logical thinking.Portfolio or work samples: Request the candidate to share their portfolio or samples of their previous work. Review their code quality, architecture, and scalability of the applications they have built.Assess domain-specific skills: Depending on your specific requirements, assess the candidate's knowledge of specific technologies, frameworks, or tools commonly used in back-end development, such as Python, Java, SQL, REST APIs, cloud platforms, or caching mechanisms.Collaboration and communication skills: Evaluate their ability to work collaboratively in a team and communicate effectively with other developers, stakeholders, and clients. Back-End Developers often need to collaborate with front-end developers, project managers, and other team members.Problem-solving and debugging skills: Assess their problem-solving abilities and how they approach and resolve technical challenges. Inquire about their experience in debugging and troubleshooting issues in back-end systems.Cultural fit: Consider the candidate's alignment with your company culture, values, and team dynamics. Assess their ability to adapt to your organization's work environment and collaborate effectively with colleagues.References and background checks: Contact the candidate's references to gain insights into their work ethic, technical proficiency, and overall performance.‍One-stop talent solution for building offshore teams in Indonesia and MalaysiaCOMPANYApply as a TalentAbout UsContact UsTerms & ConditionPrivacy PolicyRESOURCEBlogPomodoro TimerSalary IndexJob DescriptionOUR TALENTSSEO ExpertsSocial Media MarketersPerformance MarketersGraphic DesignerVideo EditorCONNECTInstagramLinkedinTwitterHire a TalentApply as a Talent© Copyright  2024 by TalentportEA Licence No : 23C1610\n",
      "\n",
      "\n",
      "\n"
     ]
    }
   ],
   "source": [
    "from langchain_community.document_loaders import WebBaseLoader\n",
    "\n",
    "loader = WebBaseLoader(\"https://www.talentport.com/job-description/detail/back-end-developer-job-description\")\n",
    "page_data = loader.load().pop().page_content\n",
    "print(page_data)"
   ]
  },
  {
   "cell_type": "code",
   "execution_count": 4,
   "id": "1bfe24b7-656d-4465-9b7c-f11ca0a1ce4d",
   "metadata": {},
   "outputs": [
    {
     "data": {
      "text/plain": [
       "str"
      ]
     },
     "execution_count": 4,
     "metadata": {},
     "output_type": "execute_result"
    }
   ],
   "source": [
    "from langchain_core.prompts import PromptTemplate\n",
    "\n",
    "prompt_extract = PromptTemplate.from_template(\n",
    "    \"\"\"\n",
    "    ### SCRAPED TEXT FROM WEBSITE:\n",
    "    {page_data}\n",
    "    ### INSTRUCTION:\n",
    "    The scraped text is from the career's page of a website. \n",
    "    Your job is to extract the job postings and return them in JSON format containing the\n",
    "    following keys: 'role', 'experience', 'skills', and 'description'.\n",
    "    Only return the valid JSON.\n",
    "    ### VALID JSON (NO PREAMBLE and term json and signs ``` in structure):\n",
    "    \"\"\"\n",
    ")\n",
    "\n",
    "chain_extract = prompt_extract | llm\n",
    "res = chain_extract.invoke(input={'page_data':page_data})\n",
    "type(res.content)\n"
   ]
  },
  {
   "cell_type": "code",
   "execution_count": 5,
   "id": "574def89-535a-4011-a205-c7412c90dec5",
   "metadata": {},
   "outputs": [
    {
     "data": {
      "text/plain": [
       "{'role': 'Back-end Developer',\n",
       " 'experience': 'Not specified',\n",
       " 'skills': ['Basic understanding of front-end technologies and platforms, including JavaScript, HTML5, and CSS3',\n",
       "  'Familiarity with server-side CSS preprocessors like LESS and SASS',\n",
       "  'Knowledge of accessibility and security compliance (depending on the project)',\n",
       "  'Experience with user authentication and authorization across multiple systems',\n",
       "  'Integration of multiple data sources and databases',\n",
       "  'Management of hosting environment, including database administration and scalability',\n",
       "  'Data migration, transformation, and scripting',\n",
       "  'Setting up and administering backups',\n",
       "  'Generating data in various formats',\n",
       "  'Adapting output for different delivery platforms (e.g., mobile vs. desktop)',\n",
       "  'Creating database schemas that support business processes',\n",
       "  'Implementing automated testing platforms and unit tests',\n",
       "  'Proficiency in at least one back-end programming language (e.g., PHP, Python, Ruby, Java, .NET, JavaScript)',\n",
       "  'Familiarity with code versioning tools like Git',\n",
       "  'Understanding of OWASP security principles',\n",
       "  'Knowledge of session management in a distributed server environment'],\n",
       " 'description': 'We are seeking a Back-End Web Developer who will be responsible for handling the exchange of data between the server and users. Your main focus will involve developing server-side logic, managing the central database, and ensuring excellent performance and responsiveness to front-end requests. Additionally, you will collaborate with your colleagues to integrate their front-end components into the application. A fundamental understanding of front-end technologies is essential for this role.'}"
      ]
     },
     "execution_count": 5,
     "metadata": {},
     "output_type": "execute_result"
    }
   ],
   "source": [
    "from langchain_core.output_parsers import JsonOutputParser\n",
    "\n",
    "json_parser = JsonOutputParser()\n",
    "json_res = json_parser.parse(res.content)\n",
    "json_res"
   ]
  },
  {
   "cell_type": "code",
   "execution_count": 31,
   "id": "94933b36-d420-4fe6-a13a-d6c9e3388f19",
   "metadata": {},
   "outputs": [
    {
     "data": {
      "text/plain": [
       "dict"
      ]
     },
     "execution_count": 31,
     "metadata": {},
     "output_type": "execute_result"
    }
   ],
   "source": [
    "type(json_res)"
   ]
  },
  {
   "cell_type": "code",
   "execution_count": 25,
   "id": "d14b11f0-2b46-49ca-8743-2b57d30ce7c5",
   "metadata": {},
   "outputs": [
    {
     "data": {
      "text/html": [
       "<div>\n",
       "<style scoped>\n",
       "    .dataframe tbody tr th:only-of-type {\n",
       "        vertical-align: middle;\n",
       "    }\n",
       "\n",
       "    .dataframe tbody tr th {\n",
       "        vertical-align: top;\n",
       "    }\n",
       "\n",
       "    .dataframe thead th {\n",
       "        text-align: right;\n",
       "    }\n",
       "</style>\n",
       "<table border=\"1\" class=\"dataframe\">\n",
       "  <thead>\n",
       "    <tr style=\"text-align: right;\">\n",
       "      <th></th>\n",
       "      <th>Techstack</th>\n",
       "      <th>Links</th>\n",
       "    </tr>\n",
       "  </thead>\n",
       "  <tbody>\n",
       "    <tr>\n",
       "      <th>0</th>\n",
       "      <td>Generative AI , Langchain, Pandas, Ollama 3.1</td>\n",
       "      <td>link GitHub1</td>\n",
       "    </tr>\n",
       "    <tr>\n",
       "      <th>1</th>\n",
       "      <td>Full-stack HR Salary Project , C# , .ASAP ,PHP...</td>\n",
       "      <td>link GitHub2</td>\n",
       "    </tr>\n",
       "    <tr>\n",
       "      <th>2</th>\n",
       "      <td>NLP, NLTK, SpaCy, Pandas, Numpy</td>\n",
       "      <td>link GitHub4</td>\n",
       "    </tr>\n",
       "    <tr>\n",
       "      <th>3</th>\n",
       "      <td>React, Node.js, MongoDB</td>\n",
       "      <td>link GitHub5</td>\n",
       "    </tr>\n",
       "    <tr>\n",
       "      <th>4</th>\n",
       "      <td>QA Automation Testing , Java, Selenium Web Dri...</td>\n",
       "      <td>link GitHub6</td>\n",
       "    </tr>\n",
       "  </tbody>\n",
       "</table>\n",
       "</div>"
      ],
      "text/plain": [
       "                                           Techstack         Links\n",
       "0      Generative AI , Langchain, Pandas, Ollama 3.1  link GitHub1\n",
       "1  Full-stack HR Salary Project , C# , .ASAP ,PHP...  link GitHub2\n",
       "2                    NLP, NLTK, SpaCy, Pandas, Numpy  link GitHub4\n",
       "3                            React, Node.js, MongoDB  link GitHub5\n",
       "4  QA Automation Testing , Java, Selenium Web Dri...  link GitHub6"
      ]
     },
     "execution_count": 25,
     "metadata": {},
     "output_type": "execute_result"
    }
   ],
   "source": [
    "import pandas as pd\n",
    "\n",
    "df = pd.read_csv(\"app\\\\resource\\\\my_portfolio.csv\")\n",
    "\n",
    "df"
   ]
  },
  {
   "cell_type": "code",
   "execution_count": 26,
   "id": "739fbb6a-eb05-4529-a7f4-f5c7a2168785",
   "metadata": {},
   "outputs": [],
   "source": [
    "import chromadb\n",
    "import uuid\n",
    "\n",
    "client  = chromadb.PersistentClient('vectorstore')\n",
    "collection = client.get_or_create_collection(name=\"portfolio\")\n",
    "\n",
    "if not collection.count():\n",
    "    for _, row in df.iterrows():\n",
    "       collection.add(documents=row[\"Techstack\"],\n",
    "                      metadatas={\"links\": row[\"Links\"]},\n",
    "                       ids=[str(uuid.uuid4())])"
   ]
  },
  {
   "cell_type": "code",
   "execution_count": 27,
   "id": "41453a2d-43a3-4aac-9a74-a410880710ba",
   "metadata": {},
   "outputs": [
    {
     "data": {
      "text/plain": [
       "[[{'links': 'link GitHub3'}, {'links': 'link GitHub5'}]]"
      ]
     },
     "execution_count": 27,
     "metadata": {},
     "output_type": "execute_result"
    }
   ],
   "source": [
    "links = collection.query(query_texts=['skills'], n_results=2).get('metadatas', [])\n",
    "links\n",
    "                        "
   ]
  },
  {
   "cell_type": "code",
   "execution_count": 28,
   "id": "2ebc3324-f5f6-49e9-a48e-1581ef415a1f",
   "metadata": {},
   "outputs": [
    {
     "data": {
      "text/plain": [
       "''"
      ]
     },
     "execution_count": 28,
     "metadata": {},
     "output_type": "execute_result"
    }
   ],
   "source": [
    "job "
   ]
  },
  {
   "cell_type": "code",
   "execution_count": 29,
   "id": "4d84abab-0e4f-46b8-b4c8-f2b948817d41",
   "metadata": {},
   "outputs": [
    {
     "data": {
      "text/plain": [
       "['Basic understanding of front-end technologies and platforms, including JavaScript, HTML5, and CSS3',\n",
       " 'Familiarity with server-side CSS preprocessors like LESS and SASS',\n",
       " 'Knowledge of accessibility and security compliance (depending on the project)',\n",
       " 'Experience with user authentication and authorization across multiple systems',\n",
       " 'Integration of multiple data sources and databases',\n",
       " 'Management of hosting environment, including database administration and scalability',\n",
       " 'Data migration, transformation, and scripting',\n",
       " 'Setting up and administering backups',\n",
       " 'Generating data in various formats',\n",
       " 'Adapting output for different delivery platforms (e.g., mobile vs. desktop)',\n",
       " 'Creating database schemas that support business processes',\n",
       " 'Implementing automated testing platforms and unit tests',\n",
       " 'Proficiency in at least one back-end programming language (e.g., PHP, Python, Ruby, Java, .NET, JavaScript)',\n",
       " 'Familiarity with code versioning tools like Git',\n",
       " 'Understanding of OWASP security principles',\n",
       " 'Knowledge of session management in a distributed server environment']"
      ]
     },
     "execution_count": 29,
     "metadata": {},
     "output_type": "execute_result"
    }
   ],
   "source": [
    "job = json_res\n",
    "job['skills']"
   ]
  },
  {
   "cell_type": "code",
   "execution_count": 30,
   "id": "e61ee723-76a0-4933-813f-2f20a66de076",
   "metadata": {},
   "outputs": [
    {
     "name": "stdout",
     "output_type": "stream",
     "text": [
      "Subject: Application for Back-end Developer Position\n",
      "\n",
      "Dear Hiring Manager,\n",
      "\n",
      "I am excited to apply for the Back-end Developer position at your company. With a strong foundation in information systems and a passion for programming, I am confident that I can make a valuable contribution to your team.\n",
      "\n",
      "As a recent master's graduate in Applied Information Systems for Production and Services and a first-year student in Informatics at the Faculty of Automation and Computers, I possess a unique blend of theoretical knowledge and practical experience. My academic background has provided me with a solid understanding of software development principles, algorithms, and data structures.\n",
      "\n",
      "Upon reviewing the job description, I noticed that the role requires proficiency in at least one back-end programming language. Although I am still in the process of exploring different programming languages, I have gained experience with Python through personal projects, including those hosted on my GitHub profile (link GitHub3 and link GitHub5). I am eager to expand my skill set and adapt to your company's technology stack.\n",
      "\n",
      "I am particularly drawn to this role because of the emphasis on collaboration with front-end developers. My understanding of front-end technologies, including JavaScript, HTML5, and CSS3, will enable me to effectively communicate and integrate with the front-end team. I am excited about the opportunity to work on developing server-side logic, managing databases, and ensuring high performance and responsiveness to front-end requests.\n",
      "\n",
      "In my previous studies, I had the opportunity to work on various projects that involved data migration, transformation, and scripting. I applied theoretical concepts, such as data modeling and database design, to real-world problems. I am confident that my experience and knowledge will enable me to make a positive impact in this role.\n",
      "\n",
      "I am impressed by the company's emphasis on security and accessibility compliance. My studies have covered OWASP security principles, and I am committed to applying these principles in my work. I am also familiar with code versioning tools like Git, which I have used in my personal projects.\n",
      "\n",
      "Thank you for considering my application. I would welcome the opportunity to discuss how my skills and experience align with the company's needs. Please feel free to contact me at your convenience.\n",
      "\n",
      "Sincerely,\n",
      "Florina\n"
     ]
    }
   ],
   "source": [
    "prompt_email = PromptTemplate.from_template(\n",
    "\"\"\"\n",
    "### JOB DESCRIPTION:\n",
    "{job_description}\n",
    "\n",
    "###\n",
    "\n",
    "You are Florina, a first-year student at the Faculty of Automation and Computers, specializing in Informatics. You are highly motivated to deepen your understanding of programming, algorithms, and software development. \n",
    "You recently completed a master's degree in Applied Information Systems for Production and Services in the same Faculty, which gave you a strong foundation in practical applications of information systems.\n",
    "As a student with both academic and practical experience, you are eager to apply your knowledge to real-world problems. Your goal is to analyze the problem, break it down into smaller steps, and use best practices in software development to complete the task. \n",
    "Additionally, reflect on how the theoretical knowledge from your studies can be applied in this scenario. \n",
    "Remember you are Florina, a student with master degree and with personal projects {link_list} and first-year student at the Faculty of Automation and Computers, specializing in Informatics\n",
    "Do not provide a preamble.\n",
    "### EMAIL (NO PREAMBLE): \n",
    "\n",
    "\"\"\" \n",
    ")\n",
    "\n",
    "chain_email = prompt_email | llm\n",
    "res = chain_email.invoke({\"job_description\": str(job), \"link_list\": links})\n",
    "print(res.content)\n"
   ]
  },
  {
   "cell_type": "code",
   "execution_count": null,
   "id": "74ee08db-58f9-4b5c-a934-bd26be8afc73",
   "metadata": {},
   "outputs": [],
   "source": []
  }
 ],
 "metadata": {
  "kernelspec": {
   "display_name": "appvenv",
   "language": "python",
   "name": "python3"
  },
  "language_info": {
   "codemirror_mode": {
    "name": "ipython",
    "version": 3
   },
   "file_extension": ".py",
   "mimetype": "text/x-python",
   "name": "python",
   "nbconvert_exporter": "python",
   "pygments_lexer": "ipython3",
   "version": "3.12.5"
  }
 },
 "nbformat": 4,
 "nbformat_minor": 5
}
